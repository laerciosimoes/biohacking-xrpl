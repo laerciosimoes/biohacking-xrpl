{
 "cells": [
  {
   "cell_type": "code",
   "execution_count": 1,
   "metadata": {},
   "outputs": [
    {
     "name": "stdout",
     "output_type": "stream",
     "text": [
      "Requirement already satisfied: langchain in e:\\projects\\biohacking.ai\\biohacking-xrpl\\.venv\\lib\\site-packages (from -r requirements.txt (line 1)) (0.2.8)\n",
      "Requirement already satisfied: langchain-openai in e:\\projects\\biohacking.ai\\biohacking-xrpl\\.venv\\lib\\site-packages (from -r requirements.txt (line 2)) (0.1.16)\n",
      "Collecting python-dotenv (from -r requirements.txt (line 3))\n",
      "  Downloading python_dotenv-1.0.1-py3-none-any.whl.metadata (23 kB)\n",
      "Requirement already satisfied: PyYAML>=5.3 in e:\\projects\\biohacking.ai\\biohacking-xrpl\\.venv\\lib\\site-packages (from langchain->-r requirements.txt (line 1)) (6.0.1)\n",
      "Requirement already satisfied: SQLAlchemy<3,>=1.4 in e:\\projects\\biohacking.ai\\biohacking-xrpl\\.venv\\lib\\site-packages (from langchain->-r requirements.txt (line 1)) (2.0.31)\n",
      "Requirement already satisfied: aiohttp<4.0.0,>=3.8.3 in e:\\projects\\biohacking.ai\\biohacking-xrpl\\.venv\\lib\\site-packages (from langchain->-r requirements.txt (line 1)) (3.9.5)\n",
      "Requirement already satisfied: langchain-core<0.3.0,>=0.2.19 in e:\\projects\\biohacking.ai\\biohacking-xrpl\\.venv\\lib\\site-packages (from langchain->-r requirements.txt (line 1)) (0.2.20)\n",
      "Requirement already satisfied: langchain-text-splitters<0.3.0,>=0.2.0 in e:\\projects\\biohacking.ai\\biohacking-xrpl\\.venv\\lib\\site-packages (from langchain->-r requirements.txt (line 1)) (0.2.2)\n",
      "Requirement already satisfied: langsmith<0.2.0,>=0.1.17 in e:\\projects\\biohacking.ai\\biohacking-xrpl\\.venv\\lib\\site-packages (from langchain->-r requirements.txt (line 1)) (0.1.88)\n",
      "Requirement already satisfied: numpy<2.0.0,>=1.26.0 in e:\\projects\\biohacking.ai\\biohacking-xrpl\\.venv\\lib\\site-packages (from langchain->-r requirements.txt (line 1)) (1.26.4)\n",
      "Requirement already satisfied: pydantic<3,>=1 in e:\\projects\\biohacking.ai\\biohacking-xrpl\\.venv\\lib\\site-packages (from langchain->-r requirements.txt (line 1)) (2.8.2)\n",
      "Requirement already satisfied: requests<3,>=2 in e:\\projects\\biohacking.ai\\biohacking-xrpl\\.venv\\lib\\site-packages (from langchain->-r requirements.txt (line 1)) (2.32.3)\n",
      "Requirement already satisfied: tenacity!=8.4.0,<9.0.0,>=8.1.0 in e:\\projects\\biohacking.ai\\biohacking-xrpl\\.venv\\lib\\site-packages (from langchain->-r requirements.txt (line 1)) (8.5.0)\n",
      "Requirement already satisfied: openai<2.0.0,>=1.32.0 in e:\\projects\\biohacking.ai\\biohacking-xrpl\\.venv\\lib\\site-packages (from langchain-openai->-r requirements.txt (line 2)) (1.35.14)\n",
      "Requirement already satisfied: tiktoken<1,>=0.7 in e:\\projects\\biohacking.ai\\biohacking-xrpl\\.venv\\lib\\site-packages (from langchain-openai->-r requirements.txt (line 2)) (0.7.0)\n",
      "Requirement already satisfied: aiosignal>=1.1.2 in e:\\projects\\biohacking.ai\\biohacking-xrpl\\.venv\\lib\\site-packages (from aiohttp<4.0.0,>=3.8.3->langchain->-r requirements.txt (line 1)) (1.3.1)\n",
      "Requirement already satisfied: attrs>=17.3.0 in e:\\projects\\biohacking.ai\\biohacking-xrpl\\.venv\\lib\\site-packages (from aiohttp<4.0.0,>=3.8.3->langchain->-r requirements.txt (line 1)) (23.2.0)\n",
      "Requirement already satisfied: frozenlist>=1.1.1 in e:\\projects\\biohacking.ai\\biohacking-xrpl\\.venv\\lib\\site-packages (from aiohttp<4.0.0,>=3.8.3->langchain->-r requirements.txt (line 1)) (1.4.1)\n",
      "Requirement already satisfied: multidict<7.0,>=4.5 in e:\\projects\\biohacking.ai\\biohacking-xrpl\\.venv\\lib\\site-packages (from aiohttp<4.0.0,>=3.8.3->langchain->-r requirements.txt (line 1)) (6.0.5)\n",
      "Requirement already satisfied: yarl<2.0,>=1.0 in e:\\projects\\biohacking.ai\\biohacking-xrpl\\.venv\\lib\\site-packages (from aiohttp<4.0.0,>=3.8.3->langchain->-r requirements.txt (line 1)) (1.9.4)\n",
      "Requirement already satisfied: jsonpatch<2.0,>=1.33 in e:\\projects\\biohacking.ai\\biohacking-xrpl\\.venv\\lib\\site-packages (from langchain-core<0.3.0,>=0.2.19->langchain->-r requirements.txt (line 1)) (1.33)\n",
      "Requirement already satisfied: packaging<25,>=23.2 in e:\\projects\\biohacking.ai\\biohacking-xrpl\\.venv\\lib\\site-packages (from langchain-core<0.3.0,>=0.2.19->langchain->-r requirements.txt (line 1)) (24.1)\n",
      "Requirement already satisfied: orjson<4.0.0,>=3.9.14 in e:\\projects\\biohacking.ai\\biohacking-xrpl\\.venv\\lib\\site-packages (from langsmith<0.2.0,>=0.1.17->langchain->-r requirements.txt (line 1)) (3.10.6)\n",
      "Requirement already satisfied: anyio<5,>=3.5.0 in e:\\projects\\biohacking.ai\\biohacking-xrpl\\.venv\\lib\\site-packages (from openai<2.0.0,>=1.32.0->langchain-openai->-r requirements.txt (line 2)) (4.4.0)\n",
      "Requirement already satisfied: distro<2,>=1.7.0 in e:\\projects\\biohacking.ai\\biohacking-xrpl\\.venv\\lib\\site-packages (from openai<2.0.0,>=1.32.0->langchain-openai->-r requirements.txt (line 2)) (1.9.0)\n",
      "Requirement already satisfied: httpx<1,>=0.23.0 in e:\\projects\\biohacking.ai\\biohacking-xrpl\\.venv\\lib\\site-packages (from openai<2.0.0,>=1.32.0->langchain-openai->-r requirements.txt (line 2)) (0.27.0)\n",
      "Requirement already satisfied: sniffio in e:\\projects\\biohacking.ai\\biohacking-xrpl\\.venv\\lib\\site-packages (from openai<2.0.0,>=1.32.0->langchain-openai->-r requirements.txt (line 2)) (1.3.1)\n",
      "Requirement already satisfied: tqdm>4 in e:\\projects\\biohacking.ai\\biohacking-xrpl\\.venv\\lib\\site-packages (from openai<2.0.0,>=1.32.0->langchain-openai->-r requirements.txt (line 2)) (4.66.4)\n",
      "Requirement already satisfied: typing-extensions<5,>=4.7 in e:\\projects\\biohacking.ai\\biohacking-xrpl\\.venv\\lib\\site-packages (from openai<2.0.0,>=1.32.0->langchain-openai->-r requirements.txt (line 2)) (4.12.2)\n",
      "Requirement already satisfied: annotated-types>=0.4.0 in e:\\projects\\biohacking.ai\\biohacking-xrpl\\.venv\\lib\\site-packages (from pydantic<3,>=1->langchain->-r requirements.txt (line 1)) (0.7.0)\n",
      "Requirement already satisfied: pydantic-core==2.20.1 in e:\\projects\\biohacking.ai\\biohacking-xrpl\\.venv\\lib\\site-packages (from pydantic<3,>=1->langchain->-r requirements.txt (line 1)) (2.20.1)\n",
      "Requirement already satisfied: charset-normalizer<4,>=2 in e:\\projects\\biohacking.ai\\biohacking-xrpl\\.venv\\lib\\site-packages (from requests<3,>=2->langchain->-r requirements.txt (line 1)) (3.3.2)\n",
      "Requirement already satisfied: idna<4,>=2.5 in e:\\projects\\biohacking.ai\\biohacking-xrpl\\.venv\\lib\\site-packages (from requests<3,>=2->langchain->-r requirements.txt (line 1)) (3.7)\n",
      "Requirement already satisfied: urllib3<3,>=1.21.1 in e:\\projects\\biohacking.ai\\biohacking-xrpl\\.venv\\lib\\site-packages (from requests<3,>=2->langchain->-r requirements.txt (line 1)) (2.2.2)\n",
      "Requirement already satisfied: certifi>=2017.4.17 in e:\\projects\\biohacking.ai\\biohacking-xrpl\\.venv\\lib\\site-packages (from requests<3,>=2->langchain->-r requirements.txt (line 1)) (2024.7.4)\n",
      "Requirement already satisfied: greenlet!=0.4.17 in e:\\projects\\biohacking.ai\\biohacking-xrpl\\.venv\\lib\\site-packages (from SQLAlchemy<3,>=1.4->langchain->-r requirements.txt (line 1)) (3.0.3)\n",
      "Requirement already satisfied: regex>=2022.1.18 in e:\\projects\\biohacking.ai\\biohacking-xrpl\\.venv\\lib\\site-packages (from tiktoken<1,>=0.7->langchain-openai->-r requirements.txt (line 2)) (2024.5.15)\n",
      "Requirement already satisfied: httpcore==1.* in e:\\projects\\biohacking.ai\\biohacking-xrpl\\.venv\\lib\\site-packages (from httpx<1,>=0.23.0->openai<2.0.0,>=1.32.0->langchain-openai->-r requirements.txt (line 2)) (1.0.5)\n",
      "Requirement already satisfied: h11<0.15,>=0.13 in e:\\projects\\biohacking.ai\\biohacking-xrpl\\.venv\\lib\\site-packages (from httpcore==1.*->httpx<1,>=0.23.0->openai<2.0.0,>=1.32.0->langchain-openai->-r requirements.txt (line 2)) (0.14.0)\n",
      "Requirement already satisfied: jsonpointer>=1.9 in e:\\projects\\biohacking.ai\\biohacking-xrpl\\.venv\\lib\\site-packages (from jsonpatch<2.0,>=1.33->langchain-core<0.3.0,>=0.2.19->langchain->-r requirements.txt (line 1)) (3.0.0)\n",
      "Requirement already satisfied: colorama in e:\\projects\\biohacking.ai\\biohacking-xrpl\\.venv\\lib\\site-packages (from tqdm>4->openai<2.0.0,>=1.32.0->langchain-openai->-r requirements.txt (line 2)) (0.4.6)\n",
      "Downloading python_dotenv-1.0.1-py3-none-any.whl (19 kB)\n",
      "Installing collected packages: python-dotenv\n",
      "Successfully installed python-dotenv-1.0.1\n",
      "Note: you may need to restart the kernel to use updated packages.\n"
     ]
    }
   ],
   "source": [
    "%pip install -r requirements.txt"
   ]
  },
  {
   "cell_type": "code",
   "execution_count": 2,
   "metadata": {},
   "outputs": [],
   "source": [
    "%load_ext dotenv\n",
    "%dotenv"
   ]
  },
  {
   "cell_type": "code",
   "execution_count": 7,
   "metadata": {},
   "outputs": [],
   "source": [
    "from langchain_openai import ChatOpenAI\n",
    "from langchain_core.messages import HumanMessage, SystemMessage\n",
    "from langchain_core.output_parsers import StrOutputParser\n",
    "from langchain_core.prompts import ChatPromptTemplate"
   ]
  },
  {
   "cell_type": "code",
   "execution_count": 13,
   "metadata": {},
   "outputs": [
    {
     "data": {
      "text/plain": [
       "'Ciao Bambino!'"
      ]
     },
     "execution_count": 13,
     "metadata": {},
     "output_type": "execute_result"
    }
   ],
   "source": [
    "model = ChatOpenAI(model=\"gpt-4\")\n",
    "messages = [\n",
    "    SystemMessage(content=\"Translate the following from English into Italian\"),\n",
    "    HumanMessage(content=\"Hello Baby!\"),\n",
    "]\n",
    "parser = StrOutputParser()\n",
    "chain = model | parser\n"
   ]
  },
  {
   "cell_type": "code",
   "execution_count": 17,
   "metadata": {},
   "outputs": [
    {
     "data": {
      "text/plain": [
       "'Ciao Bambino'"
      ]
     },
     "execution_count": 17,
     "metadata": {},
     "output_type": "execute_result"
    }
   ],
   "source": [
    "system_template = \"Translate the following into {language}:\"\n",
    "prompt_template = ChatPromptTemplate.from_messages(\n",
    "    [(\"system\", system_template), (\"user\", \"{text}\")]\n",
    ")\n",
    "chain = prompt_template | model | parser\n",
    "chain.invoke({\"language\": \"italian\", \"text\": \"Hello Baby\"})"
   ]
  },
  {
   "cell_type": "code",
   "execution_count": 18,
   "metadata": {},
   "outputs": [
    {
     "ename": "ModuleNotFoundError",
     "evalue": "No module named 'langserve'",
     "output_type": "error",
     "traceback": [
      "\u001b[1;31m---------------------------------------------------------------------------\u001b[0m",
      "\u001b[1;31mModuleNotFoundError\u001b[0m                       Traceback (most recent call last)",
      "Cell \u001b[1;32mIn[18], line 1\u001b[0m\n\u001b[1;32m----> 1\u001b[0m \u001b[38;5;28;01mfrom\u001b[39;00m \u001b[38;5;21;01mlangserve\u001b[39;00m \u001b[38;5;28;01mimport\u001b[39;00m RemoteRunnable\n\u001b[0;32m      3\u001b[0m remote_chain \u001b[38;5;241m=\u001b[39m RemoteRunnable(\u001b[38;5;124m\"\u001b[39m\u001b[38;5;124mhttp://localhost:8000/chain/\u001b[39m\u001b[38;5;124m\"\u001b[39m)\n\u001b[0;32m      4\u001b[0m remote_chain\u001b[38;5;241m.\u001b[39minvoke({\u001b[38;5;124m\"\u001b[39m\u001b[38;5;124mlanguage\u001b[39m\u001b[38;5;124m\"\u001b[39m: \u001b[38;5;124m\"\u001b[39m\u001b[38;5;124mitalian\u001b[39m\u001b[38;5;124m\"\u001b[39m, \u001b[38;5;124m\"\u001b[39m\u001b[38;5;124mtext\u001b[39m\u001b[38;5;124m\"\u001b[39m: \u001b[38;5;124m\"\u001b[39m\u001b[38;5;124mhi\u001b[39m\u001b[38;5;124m\"\u001b[39m})\n",
      "\u001b[1;31mModuleNotFoundError\u001b[0m: No module named 'langserve'"
     ]
    }
   ],
   "source": [
    "from langserve import RemoteRunnable\n",
    "\n",
    "remote_chain = RemoteRunnable(\"http://localhost:8000/chain/\")\n",
    "remote_chain.invoke({\"language\": \"italian\", \"text\": \"hi\"})"
   ]
  }
 ],
 "metadata": {
  "kernelspec": {
   "display_name": ".venv",
   "language": "python",
   "name": "python3"
  },
  "language_info": {
   "codemirror_mode": {
    "name": "ipython",
    "version": 3
   },
   "file_extension": ".py",
   "mimetype": "text/x-python",
   "name": "python",
   "nbconvert_exporter": "python",
   "pygments_lexer": "ipython3",
   "version": "3.12.4"
  }
 },
 "nbformat": 4,
 "nbformat_minor": 2
}
