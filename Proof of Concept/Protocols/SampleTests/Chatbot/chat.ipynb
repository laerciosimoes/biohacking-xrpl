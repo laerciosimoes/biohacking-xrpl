{
 "cells": [
  {
   "cell_type": "code",
   "execution_count": 11,
   "metadata": {},
   "outputs": [
    {
     "name": "stdout",
     "output_type": "stream",
     "text": [
      "Requirement already satisfied: langchain in e:\\projects\\biohacking.ai\\biohacking-xrpl\\.venv\\lib\\site-packages (from -r ../requirements.txt (line 1)) (0.2.8)\n",
      "Requirement already satisfied: langchain-openai in e:\\projects\\biohacking.ai\\biohacking-xrpl\\.venv\\lib\\site-packages (from -r ../requirements.txt (line 2)) (0.1.16)\n",
      "Requirement already satisfied: python-dotenv in e:\\projects\\biohacking.ai\\biohacking-xrpl\\.venv\\lib\\site-packages (from -r ../requirements.txt (line 3)) (1.0.1)\n",
      "Requirement already satisfied: langserve in e:\\projects\\biohacking.ai\\biohacking-xrpl\\.venv\\lib\\site-packages (from -r ../requirements.txt (line 4)) (0.2.2)\n",
      "Collecting langchain_community (from -r ../requirements.txt (line 5))\n",
      "  Downloading langchain_community-0.2.7-py3-none-any.whl.metadata (2.5 kB)\n",
      "Requirement already satisfied: PyYAML>=5.3 in e:\\projects\\biohacking.ai\\biohacking-xrpl\\.venv\\lib\\site-packages (from langchain->-r ../requirements.txt (line 1)) (6.0.1)\n",
      "Requirement already satisfied: SQLAlchemy<3,>=1.4 in e:\\projects\\biohacking.ai\\biohacking-xrpl\\.venv\\lib\\site-packages (from langchain->-r ../requirements.txt (line 1)) (2.0.31)\n",
      "Requirement already satisfied: aiohttp<4.0.0,>=3.8.3 in e:\\projects\\biohacking.ai\\biohacking-xrpl\\.venv\\lib\\site-packages (from langchain->-r ../requirements.txt (line 1)) (3.9.5)\n",
      "Requirement already satisfied: langchain-core<0.3.0,>=0.2.19 in e:\\projects\\biohacking.ai\\biohacking-xrpl\\.venv\\lib\\site-packages (from langchain->-r ../requirements.txt (line 1)) (0.2.20)\n",
      "Requirement already satisfied: langchain-text-splitters<0.3.0,>=0.2.0 in e:\\projects\\biohacking.ai\\biohacking-xrpl\\.venv\\lib\\site-packages (from langchain->-r ../requirements.txt (line 1)) (0.2.2)\n",
      "Requirement already satisfied: langsmith<0.2.0,>=0.1.17 in e:\\projects\\biohacking.ai\\biohacking-xrpl\\.venv\\lib\\site-packages (from langchain->-r ../requirements.txt (line 1)) (0.1.88)\n",
      "Requirement already satisfied: numpy<2.0.0,>=1.26.0 in e:\\projects\\biohacking.ai\\biohacking-xrpl\\.venv\\lib\\site-packages (from langchain->-r ../requirements.txt (line 1)) (1.26.4)\n",
      "Requirement already satisfied: pydantic<3,>=1 in e:\\projects\\biohacking.ai\\biohacking-xrpl\\.venv\\lib\\site-packages (from langchain->-r ../requirements.txt (line 1)) (2.8.2)\n",
      "Requirement already satisfied: requests<3,>=2 in e:\\projects\\biohacking.ai\\biohacking-xrpl\\.venv\\lib\\site-packages (from langchain->-r ../requirements.txt (line 1)) (2.32.3)\n",
      "Requirement already satisfied: tenacity!=8.4.0,<9.0.0,>=8.1.0 in e:\\projects\\biohacking.ai\\biohacking-xrpl\\.venv\\lib\\site-packages (from langchain->-r ../requirements.txt (line 1)) (8.5.0)\n",
      "Requirement already satisfied: openai<2.0.0,>=1.32.0 in e:\\projects\\biohacking.ai\\biohacking-xrpl\\.venv\\lib\\site-packages (from langchain-openai->-r ../requirements.txt (line 2)) (1.35.14)\n",
      "Requirement already satisfied: tiktoken<1,>=0.7 in e:\\projects\\biohacking.ai\\biohacking-xrpl\\.venv\\lib\\site-packages (from langchain-openai->-r ../requirements.txt (line 2)) (0.7.0)\n",
      "Requirement already satisfied: httpx>=0.23.0 in e:\\projects\\biohacking.ai\\biohacking-xrpl\\.venv\\lib\\site-packages (from langserve->-r ../requirements.txt (line 4)) (0.27.0)\n",
      "Requirement already satisfied: orjson>=2 in e:\\projects\\biohacking.ai\\biohacking-xrpl\\.venv\\lib\\site-packages (from langserve->-r ../requirements.txt (line 4)) (3.10.6)\n",
      "Requirement already satisfied: pyproject-toml<0.0.11,>=0.0.10 in e:\\projects\\biohacking.ai\\biohacking-xrpl\\.venv\\lib\\site-packages (from langserve->-r ../requirements.txt (line 4)) (0.0.10)\n",
      "Collecting dataclasses-json<0.7,>=0.5.7 (from langchain_community->-r ../requirements.txt (line 5))\n",
      "  Downloading dataclasses_json-0.6.7-py3-none-any.whl.metadata (25 kB)\n",
      "Requirement already satisfied: aiosignal>=1.1.2 in e:\\projects\\biohacking.ai\\biohacking-xrpl\\.venv\\lib\\site-packages (from aiohttp<4.0.0,>=3.8.3->langchain->-r ../requirements.txt (line 1)) (1.3.1)\n",
      "Requirement already satisfied: attrs>=17.3.0 in e:\\projects\\biohacking.ai\\biohacking-xrpl\\.venv\\lib\\site-packages (from aiohttp<4.0.0,>=3.8.3->langchain->-r ../requirements.txt (line 1)) (23.2.0)\n",
      "Requirement already satisfied: frozenlist>=1.1.1 in e:\\projects\\biohacking.ai\\biohacking-xrpl\\.venv\\lib\\site-packages (from aiohttp<4.0.0,>=3.8.3->langchain->-r ../requirements.txt (line 1)) (1.4.1)\n",
      "Requirement already satisfied: multidict<7.0,>=4.5 in e:\\projects\\biohacking.ai\\biohacking-xrpl\\.venv\\lib\\site-packages (from aiohttp<4.0.0,>=3.8.3->langchain->-r ../requirements.txt (line 1)) (6.0.5)\n",
      "Requirement already satisfied: yarl<2.0,>=1.0 in e:\\projects\\biohacking.ai\\biohacking-xrpl\\.venv\\lib\\site-packages (from aiohttp<4.0.0,>=3.8.3->langchain->-r ../requirements.txt (line 1)) (1.9.4)\n",
      "Collecting marshmallow<4.0.0,>=3.18.0 (from dataclasses-json<0.7,>=0.5.7->langchain_community->-r ../requirements.txt (line 5))\n",
      "  Downloading marshmallow-3.21.3-py3-none-any.whl.metadata (7.1 kB)\n",
      "Collecting typing-inspect<1,>=0.4.0 (from dataclasses-json<0.7,>=0.5.7->langchain_community->-r ../requirements.txt (line 5))\n",
      "  Downloading typing_inspect-0.9.0-py3-none-any.whl.metadata (1.5 kB)\n",
      "Requirement already satisfied: anyio in e:\\projects\\biohacking.ai\\biohacking-xrpl\\.venv\\lib\\site-packages (from httpx>=0.23.0->langserve->-r ../requirements.txt (line 4)) (4.4.0)\n",
      "Requirement already satisfied: certifi in e:\\projects\\biohacking.ai\\biohacking-xrpl\\.venv\\lib\\site-packages (from httpx>=0.23.0->langserve->-r ../requirements.txt (line 4)) (2024.7.4)\n",
      "Requirement already satisfied: httpcore==1.* in e:\\projects\\biohacking.ai\\biohacking-xrpl\\.venv\\lib\\site-packages (from httpx>=0.23.0->langserve->-r ../requirements.txt (line 4)) (1.0.5)\n",
      "Requirement already satisfied: idna in e:\\projects\\biohacking.ai\\biohacking-xrpl\\.venv\\lib\\site-packages (from httpx>=0.23.0->langserve->-r ../requirements.txt (line 4)) (3.7)\n",
      "Requirement already satisfied: sniffio in e:\\projects\\biohacking.ai\\biohacking-xrpl\\.venv\\lib\\site-packages (from httpx>=0.23.0->langserve->-r ../requirements.txt (line 4)) (1.3.1)\n",
      "Requirement already satisfied: h11<0.15,>=0.13 in e:\\projects\\biohacking.ai\\biohacking-xrpl\\.venv\\lib\\site-packages (from httpcore==1.*->httpx>=0.23.0->langserve->-r ../requirements.txt (line 4)) (0.14.0)\n",
      "Requirement already satisfied: jsonpatch<2.0,>=1.33 in e:\\projects\\biohacking.ai\\biohacking-xrpl\\.venv\\lib\\site-packages (from langchain-core<0.3.0,>=0.2.19->langchain->-r ../requirements.txt (line 1)) (1.33)\n",
      "Requirement already satisfied: packaging<25,>=23.2 in e:\\projects\\biohacking.ai\\biohacking-xrpl\\.venv\\lib\\site-packages (from langchain-core<0.3.0,>=0.2.19->langchain->-r ../requirements.txt (line 1)) (24.1)\n",
      "Requirement already satisfied: distro<2,>=1.7.0 in e:\\projects\\biohacking.ai\\biohacking-xrpl\\.venv\\lib\\site-packages (from openai<2.0.0,>=1.32.0->langchain-openai->-r ../requirements.txt (line 2)) (1.9.0)\n",
      "Requirement already satisfied: tqdm>4 in e:\\projects\\biohacking.ai\\biohacking-xrpl\\.venv\\lib\\site-packages (from openai<2.0.0,>=1.32.0->langchain-openai->-r ../requirements.txt (line 2)) (4.66.4)\n",
      "Requirement already satisfied: typing-extensions<5,>=4.7 in e:\\projects\\biohacking.ai\\biohacking-xrpl\\.venv\\lib\\site-packages (from openai<2.0.0,>=1.32.0->langchain-openai->-r ../requirements.txt (line 2)) (4.12.2)\n",
      "Requirement already satisfied: annotated-types>=0.4.0 in e:\\projects\\biohacking.ai\\biohacking-xrpl\\.venv\\lib\\site-packages (from pydantic<3,>=1->langchain->-r ../requirements.txt (line 1)) (0.7.0)\n",
      "Requirement already satisfied: pydantic-core==2.20.1 in e:\\projects\\biohacking.ai\\biohacking-xrpl\\.venv\\lib\\site-packages (from pydantic<3,>=1->langchain->-r ../requirements.txt (line 1)) (2.20.1)\n",
      "Requirement already satisfied: setuptools>=42 in e:\\projects\\biohacking.ai\\biohacking-xrpl\\.venv\\lib\\site-packages (from pyproject-toml<0.0.11,>=0.0.10->langserve->-r ../requirements.txt (line 4)) (70.3.0)\n",
      "Requirement already satisfied: wheel in e:\\projects\\biohacking.ai\\biohacking-xrpl\\.venv\\lib\\site-packages (from pyproject-toml<0.0.11,>=0.0.10->langserve->-r ../requirements.txt (line 4)) (0.43.0)\n",
      "Requirement already satisfied: toml in e:\\projects\\biohacking.ai\\biohacking-xrpl\\.venv\\lib\\site-packages (from pyproject-toml<0.0.11,>=0.0.10->langserve->-r ../requirements.txt (line 4)) (0.10.2)\n",
      "Requirement already satisfied: jsonschema in e:\\projects\\biohacking.ai\\biohacking-xrpl\\.venv\\lib\\site-packages (from pyproject-toml<0.0.11,>=0.0.10->langserve->-r ../requirements.txt (line 4)) (4.23.0)\n",
      "Requirement already satisfied: charset-normalizer<4,>=2 in e:\\projects\\biohacking.ai\\biohacking-xrpl\\.venv\\lib\\site-packages (from requests<3,>=2->langchain->-r ../requirements.txt (line 1)) (3.3.2)\n",
      "Requirement already satisfied: urllib3<3,>=1.21.1 in e:\\projects\\biohacking.ai\\biohacking-xrpl\\.venv\\lib\\site-packages (from requests<3,>=2->langchain->-r ../requirements.txt (line 1)) (2.2.2)\n",
      "Requirement already satisfied: greenlet!=0.4.17 in e:\\projects\\biohacking.ai\\biohacking-xrpl\\.venv\\lib\\site-packages (from SQLAlchemy<3,>=1.4->langchain->-r ../requirements.txt (line 1)) (3.0.3)\n",
      "Requirement already satisfied: regex>=2022.1.18 in e:\\projects\\biohacking.ai\\biohacking-xrpl\\.venv\\lib\\site-packages (from tiktoken<1,>=0.7->langchain-openai->-r ../requirements.txt (line 2)) (2024.5.15)\n",
      "Requirement already satisfied: jsonpointer>=1.9 in e:\\projects\\biohacking.ai\\biohacking-xrpl\\.venv\\lib\\site-packages (from jsonpatch<2.0,>=1.33->langchain-core<0.3.0,>=0.2.19->langchain->-r ../requirements.txt (line 1)) (3.0.0)\n",
      "Requirement already satisfied: colorama in e:\\projects\\biohacking.ai\\biohacking-xrpl\\.venv\\lib\\site-packages (from tqdm>4->openai<2.0.0,>=1.32.0->langchain-openai->-r ../requirements.txt (line 2)) (0.4.6)\n",
      "Collecting mypy-extensions>=0.3.0 (from typing-inspect<1,>=0.4.0->dataclasses-json<0.7,>=0.5.7->langchain_community->-r ../requirements.txt (line 5))\n",
      "  Downloading mypy_extensions-1.0.0-py3-none-any.whl.metadata (1.1 kB)\n",
      "Requirement already satisfied: jsonschema-specifications>=2023.03.6 in e:\\projects\\biohacking.ai\\biohacking-xrpl\\.venv\\lib\\site-packages (from jsonschema->pyproject-toml<0.0.11,>=0.0.10->langserve->-r ../requirements.txt (line 4)) (2023.12.1)\n",
      "Requirement already satisfied: referencing>=0.28.4 in e:\\projects\\biohacking.ai\\biohacking-xrpl\\.venv\\lib\\site-packages (from jsonschema->pyproject-toml<0.0.11,>=0.0.10->langserve->-r ../requirements.txt (line 4)) (0.35.1)\n",
      "Requirement already satisfied: rpds-py>=0.7.1 in e:\\projects\\biohacking.ai\\biohacking-xrpl\\.venv\\lib\\site-packages (from jsonschema->pyproject-toml<0.0.11,>=0.0.10->langserve->-r ../requirements.txt (line 4)) (0.19.0)\n",
      "Downloading langchain_community-0.2.7-py3-none-any.whl (2.2 MB)\n",
      "   ---------------------------------------- 0.0/2.2 MB ? eta -:--:--\n",
      "   - -------------------------------------- 0.1/2.2 MB 1.3 MB/s eta 0:00:02\n",
      "   ------ --------------------------------- 0.4/2.2 MB 3.9 MB/s eta 0:00:01\n",
      "   ----------------- ---------------------- 1.0/2.2 MB 7.0 MB/s eta 0:00:01\n",
      "   ---------------------------- ----------- 1.6/2.2 MB 8.3 MB/s eta 0:00:01\n",
      "   ---------------------------------------- 2.2/2.2 MB 9.5 MB/s eta 0:00:00\n",
      "Downloading dataclasses_json-0.6.7-py3-none-any.whl (28 kB)\n",
      "Downloading marshmallow-3.21.3-py3-none-any.whl (49 kB)\n",
      "   ---------------------------------------- 0.0/49.2 kB ? eta -:--:--\n",
      "   ---------------------------------------- 49.2/49.2 kB ? eta 0:00:00\n",
      "Downloading typing_inspect-0.9.0-py3-none-any.whl (8.8 kB)\n",
      "Downloading mypy_extensions-1.0.0-py3-none-any.whl (4.7 kB)\n",
      "Installing collected packages: mypy-extensions, marshmallow, typing-inspect, dataclasses-json, langchain_community\n",
      "Successfully installed dataclasses-json-0.6.7 langchain_community-0.2.7 marshmallow-3.21.3 mypy-extensions-1.0.0 typing-inspect-0.9.0\n",
      "Note: you may need to restart the kernel to use updated packages.\n"
     ]
    }
   ],
   "source": [
    "%pip install -r ../requirements.txt"
   ]
  },
  {
   "cell_type": "code",
   "execution_count": 6,
   "metadata": {},
   "outputs": [],
   "source": [
    "%load_ext dotenv\n",
    "%dotenv"
   ]
  },
  {
   "cell_type": "code",
   "execution_count": 7,
   "metadata": {},
   "outputs": [],
   "source": [
    "from langchain_openai import ChatOpenAI\n",
    "\n",
    "model = ChatOpenAI(model=\"gpt-3.5-turbo\")"
   ]
  },
  {
   "cell_type": "code",
   "execution_count": 8,
   "metadata": {},
   "outputs": [
    {
     "data": {
      "text/plain": [
       "AIMessage(content='Hello Bob! How can I assist you today?', response_metadata={'token_usage': {'completion_tokens': 10, 'prompt_tokens': 12, 'total_tokens': 22}, 'model_name': 'gpt-3.5-turbo-0125', 'system_fingerprint': None, 'finish_reason': 'stop', 'logprobs': None}, id='run-b436c48c-d846-4ae2-b20c-159546ebce03-0', usage_metadata={'input_tokens': 12, 'output_tokens': 10, 'total_tokens': 22})"
      ]
     },
     "execution_count": 8,
     "metadata": {},
     "output_type": "execute_result"
    }
   ],
   "source": [
    "from langchain_core.messages import HumanMessage\n",
    "\n",
    "model.invoke([HumanMessage(content=\"Hi! I'm Bob\")])"
   ]
  },
  {
   "cell_type": "code",
   "execution_count": 10,
   "metadata": {},
   "outputs": [
    {
     "data": {
      "text/plain": [
       "AIMessage(content=\"I'm sorry, I don't have access to that information.\", response_metadata={'token_usage': {'completion_tokens': 13, 'prompt_tokens': 12, 'total_tokens': 25}, 'model_name': 'gpt-3.5-turbo-0125', 'system_fingerprint': None, 'finish_reason': 'stop', 'logprobs': None}, id='run-51e5dd0d-6ce4-4b05-94b6-b6a00bd34c5e-0', usage_metadata={'input_tokens': 12, 'output_tokens': 13, 'total_tokens': 25})"
      ]
     },
     "execution_count": 10,
     "metadata": {},
     "output_type": "execute_result"
    }
   ],
   "source": [
    "model.invoke([HumanMessage(content=\"What's my name?\")])"
   ]
  },
  {
   "cell_type": "code",
   "execution_count": 12,
   "metadata": {},
   "outputs": [],
   "source": [
    "from langchain_core.chat_history import (\n",
    "    BaseChatMessageHistory,\n",
    "    InMemoryChatMessageHistory,\n",
    ")\n",
    "from langchain_core.runnables.history import RunnableWithMessageHistory\n",
    "\n",
    "store = {}\n",
    "\n",
    "\n",
    "def get_session_history(session_id: str) -> BaseChatMessageHistory:\n",
    "    if session_id not in store:\n",
    "        store[session_id] = InMemoryChatMessageHistory()\n",
    "    return store[session_id]\n",
    "\n",
    "\n",
    "with_message_history = RunnableWithMessageHistory(model, get_session_history)"
   ]
  },
  {
   "cell_type": "code",
   "execution_count": 13,
   "metadata": {},
   "outputs": [],
   "source": [
    "config = {\"configurable\": {\"session_id\": \"abc2\"}}"
   ]
  },
  {
   "cell_type": "code",
   "execution_count": 14,
   "metadata": {},
   "outputs": [
    {
     "data": {
      "text/plain": [
       "'Hi Bob! How can I assist you today?'"
      ]
     },
     "execution_count": 14,
     "metadata": {},
     "output_type": "execute_result"
    }
   ],
   "source": [
    "response = with_message_history.invoke(\n",
    "    [HumanMessage(content=\"Hi! I'm Bob\")],\n",
    "    config=config,\n",
    ")\n",
    "\n",
    "response.content"
   ]
  },
  {
   "cell_type": "code",
   "execution_count": 16,
   "metadata": {},
   "outputs": [
    {
     "data": {
      "text/plain": [
       "'Your name is Bob. Is there something specific you would like assistance with, Bob?'"
      ]
     },
     "execution_count": 16,
     "metadata": {},
     "output_type": "execute_result"
    }
   ],
   "source": [
    "response = with_message_history.invoke(\n",
    "    [HumanMessage(content=\"What's my name?\")],\n",
    "    config=config,\n",
    ")\n",
    "\n",
    "response.content"
   ]
  },
  {
   "cell_type": "code",
   "execution_count": 17,
   "metadata": {},
   "outputs": [
    {
     "data": {
      "text/plain": [
       "\"I'm sorry, but I do not know your name. Can you please tell me your name?\""
      ]
     },
     "execution_count": 17,
     "metadata": {},
     "output_type": "execute_result"
    }
   ],
   "source": [
    "config = {\"configurable\": {\"session_id\": \"abc3\"}}\n",
    "\n",
    "response = with_message_history.invoke(\n",
    "    [HumanMessage(content=\"What's my name?\")],\n",
    "    config=config,\n",
    ")\n",
    "\n",
    "response.content"
   ]
  },
  {
   "cell_type": "code",
   "execution_count": 18,
   "metadata": {},
   "outputs": [
    {
     "data": {
      "text/plain": [
       "'Your name is Bob. How can I assist you today, Bob?'"
      ]
     },
     "execution_count": 18,
     "metadata": {},
     "output_type": "execute_result"
    }
   ],
   "source": [
    "config = {\"configurable\": {\"session_id\": \"abc2\"}}\n",
    "\n",
    "response = with_message_history.invoke(\n",
    "    [HumanMessage(content=\"What's my name?\")],\n",
    "    config=config,\n",
    ")\n",
    "\n",
    "response.content"
   ]
  }
 ],
 "metadata": {
  "kernelspec": {
   "display_name": ".venv",
   "language": "python",
   "name": "python3"
  },
  "language_info": {
   "codemirror_mode": {
    "name": "ipython",
    "version": 3
   },
   "file_extension": ".py",
   "mimetype": "text/x-python",
   "name": "python",
   "nbconvert_exporter": "python",
   "pygments_lexer": "ipython3",
   "version": "3.12.4"
  }
 },
 "nbformat": 4,
 "nbformat_minor": 2
}
